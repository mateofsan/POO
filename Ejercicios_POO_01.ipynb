{
  "nbformat": 4,
  "nbformat_minor": 0,
  "metadata": {
    "colab": {
      "provenance": []
    },
    "kernelspec": {
      "name": "python3",
      "display_name": "Python 3"
    },
    "language_info": {
      "name": "python"
    }
  },
  "cells": [
    {
      "cell_type": "markdown",
      "source": [
        "## Ejercicios POO"
      ],
      "metadata": {
        "id": "TgBu7yBbjvVR"
      }
    },
    {
      "cell_type": "markdown",
      "source": [
        "\n",
        "\n",
        "\n",
        "**1. Describe cuáles son las diferencias entre clases y objetos.**\n",
        "\n",
        "> La clases son más grandes y contienen a los objetos. Mientras que los objetos son, por ejemplo, las listas, numeros, etc\n",
        "\n",
        "**2. Describe por qué usamos self como primer argumento en los métodos.**\n",
        "> Es para que se definan por si mismas las variables\n",
        "\n",
        "**3. ¿Qué es un constructor? ¿Y por qué lo usamos?**\n",
        "\n",
        "> Un constructor es un método especial que se ejecuta automáticamente al crear un objeto. Se utiliza para inicializar los atributos del objeto con valores específicos.\n",
        "\n",
        "**4.Describir las diferencias entre los atributos de clase y de instancia.**\n",
        "\n",
        "> Los atributos son las definiciones o tambien llamados métodos y las instancias son las que te dicen que tipo de bjeto tienes en las definiciones.\n",
        "\n",
        "**5. La siguiente es una definición de la clase Punto que toma las coordenadas x, y. Agregue un método plot_point que trace la posición del punto.**\n",
        "\n",
        "**6. Documenta y prueba con algunos puntos el siguiente código**\n",
        "\n",
        "# códigos\n",
        "```\n",
        "#\n",
        "import matplotlib.pyplot as plt\n",
        "\n",
        "class Punto():\n",
        "    def __init__(self, x, y):\n",
        "        self.x = x\n",
        "        self.y = y\n",
        "\n",
        "    def plot(self):\n",
        "        plt.scatter(self.x, self.y, color='red', marker='o')\n",
        "        plt.xlabel('X-axis')\n",
        "        plt.ylabel('Y-axis')\n",
        "        plt.title('Gráfica del punto')\n",
        "        plt.grid(True)\n",
        "        plt.show()\n",
        "```\n",
        "\n",
        "\n",
        "\n",
        "**7. Cree una clase para modelar algún objeto del mundo real y cree una nueva clase para heredar de él. Un ejemplo puede ser el siguiente. Deberías usar un ejemplo diferente y usar tantas cosas que aprendimos como sea posible.**\n",
        "\n",
        "```\n",
        "# class Carro():\n",
        "    def __init__(self, marca, color):\n",
        "        self.marca = marca\n",
        "        self.color = color\n",
        "    \n",
        "    def encender(self):\n",
        "        print('!Listo para conducir!')\n",
        "        \n",
        "class Camioneta(Carro):\n",
        "    def __init__(self, marca, color, tamaño):\n",
        "        super().__init__(marca, color)\n",
        "        self.tamaño = tamaño\n",
        "        \n",
        "    def encender(self, llave):\n",
        "        if llave == 'llave_camioneta':\n",
        "            print('¡Listo para conducir!')\n",
        "        else:\n",
        "            print('La llave no es la correcta')\n",
        "            \n",
        "    def apagar(self, apagar):\n",
        "        if apagar:\n",
        "            print('¡El motor está apagado!')\n",
        "        else:\n",
        "            print('¡Sigo conduciendo!')\n",
        "\n",
        "```\n",
        "\n",
        "\n",
        "\n"
      ],
      "metadata": {
        "id": "OlqRnXzXhqwb"
      }
    },
    {
      "cell_type": "code",
      "source": [
        "class Carro:\n",
        "  def __init__(self, marca, modelo, año):\n",
        "    self.marca = marca\n",
        "    self.modelo = modelo\n",
        "    self.año = año\n",
        "\n",
        "  def precio(self):\n",
        "    print(f\"Mi coche {self.marca} {self.modelo} costo 600 mil pesos.\")\n",
        "\n",
        "  def agencia(self):\n",
        "    print(f\"Mi coche {self.marca} {self.modelo} es comprado en agencia\")\n",
        "\n",
        "class Automóvil(Carro):\n",
        "  def __init__(self, marca, modelo, año, gasolina):\n",
        "    super().__init__(marca, modelo, año)\n",
        "    self.gas = gasolina\n",
        "\n",
        "  def gasolina(self):\n",
        "    print(f\"Mi coche {self.marca} {self.modelo} usa {self.gasolina}\")\n",
        "\n",
        "  def kilometraje(self):\n",
        "    print(f\"El kilometrage de mi coche: {self.marca} {self.modelo} es 0.\")\n"
      ],
      "metadata": {
        "id": "406SlX2Xq1Mp"
      },
      "execution_count": 18,
      "outputs": []
    },
    {
      "cell_type": "code",
      "source": [
        "auto = Automóvil(\"Cupra\", \"león\", 2021, \"gasolina\")\n",
        "auto.precio()\n",
        "auto.agencia()\n",
        "auto.gasolina()\n",
        "auto.kilometraje()"
      ],
      "metadata": {
        "colab": {
          "base_uri": "https://localhost:8080/"
        },
        "id": "3VbsdROnwv7o",
        "outputId": "e86802e3-a76f-47c0-ecdd-03de47538439"
      },
      "execution_count": 19,
      "outputs": [
        {
          "output_type": "stream",
          "name": "stdout",
          "text": [
            "Mi coche Cupra león costo 600 mil pesos.\n",
            "Mi coche Cupra león es comprado en agencia\n",
            "Mi coche Cupra león usa <bound method Automóvil.gasolina of <__main__.Automóvil object at 0x7dc10028ad40>>\n",
            "El kilometrage de mi coche: Cupra león es 0.\n"
          ]
        }
      ]
    },
    {
      "cell_type": "code",
      "source": [
        "import matplotlib.pyplot as plt\n",
        "\n",
        "class Punto():\n",
        "    def __init__(self, x, y):\n",
        "        self.x = x\n",
        "        self.y = y\n",
        "\n",
        "    def plot(self):\n",
        "        plt.scatter(self.x, self.y, color='red', marker='o')\n",
        "        plt.xlabel('X-axis')\n",
        "        plt.ylabel('Y-axis')\n",
        "        plt.title('Gráfica del punto')\n",
        "        plt.grid(True)\n",
        "        plt.show()"
      ],
      "metadata": {
        "id": "1O29RcDdpC_T"
      },
      "execution_count": 4,
      "outputs": []
    },
    {
      "cell_type": "code",
      "source": [
        "punto= Punto(3,2)\n",
        "punto.plot()"
      ],
      "metadata": {
        "id": "7skCcYA0icoq",
        "outputId": "44b4d004-2c22-4431-abe8-2d37802321f9",
        "colab": {
          "base_uri": "https://localhost:8080/",
          "height": 472
        }
      },
      "execution_count": 6,
      "outputs": [
        {
          "output_type": "display_data",
          "data": {
            "text/plain": [
              "<Figure size 640x480 with 1 Axes>"
            ],
            "image/png": "[encoded data removed]"
          },
          "metadata": {}
        }
      ]
    }
  ]
}