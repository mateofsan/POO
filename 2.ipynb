{
  "nbformat": 4,
  "nbformat_minor": 0,
  "metadata": {
    "colab": {
      "provenance": []
    },
    "kernelspec": {
      "name": "python3",
      "display_name": "Python 3"
    },
    "language_info": {
      "name": "python"
    }
  },
  "cells": [
    {
      "cell_type": "markdown",
      "source": [
        "#Listas\n"
      ],
      "metadata": {
        "id": "6Md4LDNiYG2a"
      }
    },
    {
      "cell_type": "code",
      "source": [
        "# Vamos a generar una lista vacía\n",
        "\n",
        "L=[]\n",
        "range(10)"
      ],
      "metadata": {
        "colab": {
          "base_uri": "https://localhost:8080/"
        },
        "id": "T8aGShVRYJio",
        "outputId": "1c5b1276-9ff0-45e5-9974-e473761297c4"
      },
      "execution_count": null,
      "outputs": [
        {
          "output_type": "execute_result",
          "data": {
            "text/plain": [
              "range(0, 10)"
            ]
          },
          "metadata": {},
          "execution_count": 1
        }
      ]
    },
    {
      "cell_type": "code",
      "source": [
        "L=[1, 2, 3, 4]\n",
        "L"
      ],
      "metadata": {
        "colab": {
          "base_uri": "https://localhost:8080/"
        },
        "id": "kPUXFIyfY96M",
        "outputId": "fea1ca0b-d6a9-4ef6-d096-0eb6f3067791"
      },
      "execution_count": null,
      "outputs": [
        {
          "output_type": "execute_result",
          "data": {
            "text/plain": [
              "[1, 2, 3, 4]"
            ]
          },
          "metadata": {},
          "execution_count": 2
        }
      ]
    },
    {
      "cell_type": "code",
      "source": [
        "#Agregar un elemento a la lista ya creada\n",
        "\n",
        "L.append(10)\n",
        "L"
      ],
      "metadata": {
        "colab": {
          "base_uri": "https://localhost:8080/"
        },
        "id": "iJ-V9G0OY_ds",
        "outputId": "df8eb3d1-5842-4aa1-f428-134d6c21ed50"
      },
      "execution_count": null,
      "outputs": [
        {
          "output_type": "execute_result",
          "data": {
            "text/plain": [
              "[1, 2, 3, 4, 10]"
            ]
          },
          "metadata": {},
          "execution_count": 3
        }
      ]
    },
    {
      "cell_type": "code",
      "source": [
        "#Eliminar un elemento de la lista creada\n",
        "L.remove(10)\n",
        "L"
      ],
      "metadata": {
        "id": "330CwxRyZCgD"
      },
      "execution_count": null,
      "outputs": []
    },
    {
      "cell_type": "markdown",
      "source": [
        "#Listas por Compresión"
      ],
      "metadata": {
        "id": "7hmrXI2EZL5E"
      }
    },
    {
      "cell_type": "code",
      "source": [
        "#Tipo\n",
        "type([])"
      ],
      "metadata": {
        "colab": {
          "base_uri": "https://localhost:8080/"
        },
        "id": "ZN4jN67VZQeb",
        "outputId": "71b3d404-53f2-4161-bf0e-fde02c68b33e"
      },
      "execution_count": null,
      "outputs": [
        {
          "output_type": "execute_result",
          "data": {
            "text/plain": [
              "list"
            ]
          },
          "metadata": {},
          "execution_count": 4
        }
      ]
    },
    {
      "cell_type": "code",
      "source": [
        "#Número de elementos que tiene una lista\n",
        "len([2, 4, 6, 8])"
      ],
      "metadata": {
        "colab": {
          "base_uri": "https://localhost:8080/"
        },
        "id": "x8KuSRhWZT_X",
        "outputId": "e5f0e431-348d-4951-e124-3dd2b08eefbc"
      },
      "execution_count": null,
      "outputs": [
        {
          "output_type": "execute_result",
          "data": {
            "text/plain": [
              "4"
            ]
          },
          "metadata": {},
          "execution_count": 5
        }
      ]
    },
    {
      "cell_type": "code",
      "source": [
        "Pares = [i for i in range(1, 101) if i%2==0]\n",
        "Pares"
      ],
      "metadata": {
        "colab": {
          "base_uri": "https://localhost:8080/"
        },
        "id": "GLl6gmAXZaPk",
        "outputId": "2f8cb101-3930-4cf1-a9b4-68c055e56b88"
      },
      "execution_count": null,
      "outputs": [
        {
          "output_type": "execute_result",
          "data": {
            "text/plain": [
              "[2,\n",
              " 4,\n",
              " 6,\n",
              " 8,\n",
              " 10,\n",
              " 12,\n",
              " 14,\n",
              " 16,\n",
              " 18,\n",
              " 20,\n",
              " 22,\n",
              " 24,\n",
              " 26,\n",
              " 28,\n",
              " 30,\n",
              " 32,\n",
              " 34,\n",
              " 36,\n",
              " 38,\n",
              " 40,\n",
              " 42,\n",
              " 44,\n",
              " 46,\n",
              " 48,\n",
              " 50,\n",
              " 52,\n",
              " 54,\n",
              " 56,\n",
              " 58,\n",
              " 60,\n",
              " 62,\n",
              " 64,\n",
              " 66,\n",
              " 68,\n",
              " 70,\n",
              " 72,\n",
              " 74,\n",
              " 76,\n",
              " 78,\n",
              " 80,\n",
              " 82,\n",
              " 84,\n",
              " 86,\n",
              " 88,\n",
              " 90,\n",
              " 92,\n",
              " 94,\n",
              " 96,\n",
              " 98,\n",
              " 100]"
            ]
          },
          "metadata": {},
          "execution_count": 6
        }
      ]
    },
    {
      "cell_type": "markdown",
      "source": [
        "#Módulo NumPy"
      ],
      "metadata": {
        "id": "iNwuvF8bZhGf"
      }
    },
    {
      "cell_type": "code",
      "source": [
        "#Sirve para utilizar la librería\n",
        "import numpy as np"
      ],
      "metadata": {
        "id": "acs_DlidZkFA"
      },
      "execution_count": null,
      "outputs": []
    },
    {
      "cell_type": "code",
      "source": [
        "#Elige 5 números aleatorio del uno al cien\n",
        "np.random.randint(1, 100, 5)"
      ],
      "metadata": {
        "colab": {
          "base_uri": "https://localhost:8080/"
        },
        "id": "uWsOjn2JZmqN",
        "outputId": "fa8e25db-5b79-4b26-f25a-f26890a17e8a"
      },
      "execution_count": null,
      "outputs": [
        {
          "output_type": "execute_result",
          "data": {
            "text/plain": [
              "array([ 9, 21, 50, 87, 50])"
            ]
          },
          "metadata": {},
          "execution_count": 8
        }
      ]
    },
    {
      "cell_type": "code",
      "source": [
        "#Ejercicio: Generar 100 números del 1 al 10 y decir cuales son pares\n",
        "Pares1 = [i for i in np.random.randint(1, 11, 100) if i%2==0]\n",
        "Pares1\n"
      ],
      "metadata": {
        "id": "vPjRt4SFZpCO",
        "outputId": "100808a8-1e1a-4feb-ebec-abb38594d5e3",
        "colab": {
          "base_uri": "https://localhost:8080/"
        }
      },
      "execution_count": null,
      "outputs": [
        {
          "output_type": "execute_result",
          "data": {
            "text/plain": [
              "[4,\n",
              " 2,\n",
              " 8,\n",
              " 4,\n",
              " 2,\n",
              " 4,\n",
              " 10,\n",
              " 6,\n",
              " 6,\n",
              " 6,\n",
              " 6,\n",
              " 10,\n",
              " 4,\n",
              " 10,\n",
              " 4,\n",
              " 4,\n",
              " 2,\n",
              " 4,\n",
              " 8,\n",
              " 2,\n",
              " 4,\n",
              " 6,\n",
              " 4,\n",
              " 8,\n",
              " 4,\n",
              " 10,\n",
              " 10,\n",
              " 4,\n",
              " 6,\n",
              " 8,\n",
              " 6,\n",
              " 8,\n",
              " 10,\n",
              " 10,\n",
              " 4,\n",
              " 2,\n",
              " 10,\n",
              " 8,\n",
              " 2,\n",
              " 10,\n",
              " 4,\n",
              " 2,\n",
              " 6,\n",
              " 2,\n",
              " 8,\n",
              " 4,\n",
              " 8,\n",
              " 10,\n",
              " 8,\n",
              " 10,\n",
              " 6]"
            ]
          },
          "metadata": {},
          "execution_count": 9
        }
      ]
    }
  ]
}