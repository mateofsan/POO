{
  "nbformat": 4,
  "nbformat_minor": 0,
  "metadata": {
    "colab": {
      "provenance": []
    },
    "kernelspec": {
      "name": "python3",
      "display_name": "Python 3"
    },
    "language_info": {
      "name": "python"
    }
  },
  "cells": [
    {
      "cell_type": "code",
      "execution_count": 13,
      "metadata": {
        "colab": {
          "base_uri": "https://localhost:8080/"
        },
        "id": "obZD4rO1u1Av",
        "outputId": "2d0634cf-bc3b-4b0e-ed79-feaccd6b355e"
      },
      "outputs": [
        {
          "output_type": "stream",
          "name": "stdout",
          "text": [
            "Matriz Original:\n",
            "[[7 9]\n",
            " [5 4]]\n",
            "\n",
            "Determinante de la Matriz:\n",
            "-16.999999999999993\n",
            "\n",
            "Inversa (f'-1):\n",
            "[[-0.23529412  0.52941176]\n",
            " [ 0.29411765 -0.41176471]]\n",
            "\n",
            "Transpuesta:\n",
            "[[7 5]\n",
            " [9 4]]\n",
            "\n",
            "Rotación de 65 grados:\n",
            "[[-1.5732111   0.17833321]\n",
            " [ 8.45724582  9.84724313]]\n"
          ]
        }
      ],
      "source": [
        "import numpy as np\n",
        "\n",
        "class Matrices:\n",
        "    def __init__(self, matrix):\n",
        "        self.matrix = np.array(matrix)\n",
        "\n",
        "    def determinante(self):\n",
        "        return np.linalg.det(self.matrix)\n",
        "\n",
        "    def inversa(self):\n",
        "        return np.linalg.inv(self.matrix)\n",
        "\n",
        "    def transpuesta(self):\n",
        "        return np.transpose(self.matrix)\n",
        "\n",
        "class MatricesOperaciones(Matrices):\n",
        "    def __init__(self, matrix):\n",
        "        super().__init__(matrix)\n",
        "\n",
        "    def rotacion(self, angle_degrees):\n",
        "        angle_radians = np.radians(angle_degrees)\n",
        "        rotation_matrix = np.array([[np.cos(angle_radians), -np.sin(angle_radians)],\n",
        "                                   [np.sin(angle_radians), np.cos(angle_radians)]])\n",
        "        return np.dot(rotation_matrix, self.matrix)\n",
        "\n",
        "# Ejemplo práctico de las definiciones anteriores\n",
        "matrix_data = [[7, 9], [5, 4]]\n",
        "matrices_obj = Matrices(matrix_data)\n",
        "\n",
        "print(\"Matriz Original:\")\n",
        "print(matrices_obj.matrix)\n",
        "\n",
        "print(\"\\nDeterminante de la Matriz:\")\n",
        "print(matrices_obj.determinante())\n",
        "\n",
        "print(\"\\nInversa (f'-1):\")\n",
        "print(matrices_obj.inversa())\n",
        "\n",
        "print(\"\\nTranspuesta:\")\n",
        "print(matrices_obj.transpuesta())\n",
        "\n",
        "# Operación rotación usando la clase heredada\n",
        "matrices_op_obj = MatricesOperaciones(matrix_data)\n",
        "\n",
        "angle_to_rotate = 65\n",
        "rotated_matrix = matrices_op_obj.rotacion(angle_to_rotate)\n",
        "\n",
        "print(f\"\\nRotación de {angle_to_rotate} grados:\")\n",
        "print(rotated_matrix)\n",
        "\n",
        "\n",
        "\n",
        "\n"
      ]
    }
  ]
}