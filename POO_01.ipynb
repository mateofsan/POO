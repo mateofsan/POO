{
  "nbformat": 4,
  "nbformat_minor": 0,
  "metadata": {
    "colab": {
      "provenance": []
    },
    "kernelspec": {
      "name": "python3",
      "display_name": "Python 3"
    },
    "language_info": {
      "name": "python"
    }
  },
  "cells": [
    {
      "cell_type": "markdown",
      "source": [
        "# Primeros objetos\n",
        "\n",
        "\n",
        "1.   Objetos.\n",
        "2.   Listas.\n",
        "3.   Conjuntos.\n",
        "\n",
        "\n"
      ],
      "metadata": {
        "id": "FfLCxZgKjN3X"
      }
    },
    {
      "cell_type": "markdown",
      "source": [
        "En Python se puden realizar operaciones sobre objetos. Además, es útil para resolver un sistema de ecuaciones lineales.\n",
        "\n",
        "$$\n",
        "f(x,y)\\begin{cases}\n",
        "x+2y &= 3 \\\\\n",
        "2x+4y &= 6\n",
        "\\end{cases}\n",
        "$$"
      ],
      "metadata": {
        "id": "lf3W27VRlg9R"
      }
    },
    {
      "cell_type": "code",
      "source": [
        "print(\"Hola Mundo!\")\n"
      ],
      "metadata": {
        "colab": {
          "base_uri": "https://localhost:8080/"
        },
        "id": "EnN-UabsoDS7",
        "outputId": "4ada7ff0-9a89-4020-b040-1dcadd7e09c1"
      },
      "execution_count": 1,
      "outputs": [
        {
          "output_type": "stream",
          "name": "stdout",
          "text": [
            "Hola Mundo!\n"
          ]
        }
      ]
    },
    {
      "cell_type": "markdown",
      "source": [
        "## Primeros objetos\n",
        "\n",
        "\n",
        "*   Números enteros\n",
        "*   Números flotantes\n",
        "\n",
        "\n"
      ],
      "metadata": {
        "id": "rdRpy8GtsFeO"
      }
    },
    {
      "cell_type": "code",
      "source": [
        "# Crear variables\n",
        "x = 3\n",
        "y = 5"
      ],
      "metadata": {
        "id": "dKY-aIxfsOYx"
      },
      "execution_count": 3,
      "outputs": []
    },
    {
      "cell_type": "code",
      "source": [
        "print(x+y)\n",
        "print(x-y)\n",
        "print(x*y)\n",
        "print(x**y)\n",
        "print(x/y)\n",
        "print(x//y)\n",
        "print(x%y)"
      ],
      "metadata": {
        "colab": {
          "base_uri": "https://localhost:8080/"
        },
        "id": "P1T6BhtetYch",
        "outputId": "6142c1cd-7fca-42c5-88b7-66c86e16ff1f"
      },
      "execution_count": 4,
      "outputs": [
        {
          "output_type": "stream",
          "name": "stdout",
          "text": [
            "8\n",
            "-2\n",
            "15\n",
            "243\n",
            "0.6\n",
            "0\n",
            "3\n"
          ]
        }
      ]
    },
    {
      "cell_type": "code",
      "source": [
        "type(x+y)"
      ],
      "metadata": {
        "colab": {
          "base_uri": "https://localhost:8080/"
        },
        "id": "lu9JL7DOwEEb",
        "outputId": "27e13339-e8dc-4290-ac52-663629995f50"
      },
      "execution_count": 5,
      "outputs": [
        {
          "output_type": "execute_result",
          "data": {
            "text/plain": [
              "int"
            ]
          },
          "metadata": {},
          "execution_count": 5
        }
      ]
    },
    {
      "cell_type": "code",
      "source": [
        "type(x/y)"
      ],
      "metadata": {
        "colab": {
          "base_uri": "https://localhost:8080/"
        },
        "id": "kudEH4gwwIwp",
        "outputId": "79921cc4-e150-4793-ecb5-b0a8449b51fb"
      },
      "execution_count": 6,
      "outputs": [
        {
          "output_type": "execute_result",
          "data": {
            "text/plain": [
              "float"
            ]
          },
          "metadata": {},
          "execution_count": 6
        }
      ]
    }
  ]
}