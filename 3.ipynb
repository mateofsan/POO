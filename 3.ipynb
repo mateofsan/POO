{
  "nbformat": 4,
  "nbformat_minor": 0,
  "metadata": {
    "colab": {
      "provenance": []
    },
    "kernelspec": {
      "name": "python3",
      "display_name": "Python 3"
    },
    "language_info": {
      "name": "python"
    }
  },
  "cells": [
    {
      "cell_type": "markdown",
      "source": [
        "#Perímetro y área del triángulo"
      ],
      "metadata": {
        "id": "AS8npj84aW-B"
      }
    },
    {
      "cell_type": "code",
      "source": [
        "#Defines el perímetro y escribes la fórmula\n",
        "def Perimetro(b,l):\n",
        "  p=(b*2)+l\n",
        "  return p"
      ],
      "metadata": {
        "id": "1Pok2OtRabAB"
      },
      "execution_count": 1,
      "outputs": []
    },
    {
      "cell_type": "code",
      "source": [
        "#Le das los valores a b y l\n",
        "Perimetro(2,8)"
      ],
      "metadata": {
        "colab": {
          "base_uri": "https://localhost:8080/"
        },
        "id": "vk_bqiOiadyM",
        "outputId": "d0b27ff8-7ab5-4beb-9994-4fdc139be317"
      },
      "execution_count": 2,
      "outputs": [
        {
          "output_type": "execute_result",
          "data": {
            "text/plain": [
              "12"
            ]
          },
          "metadata": {},
          "execution_count": 2
        }
      ]
    },
    {
      "cell_type": "code",
      "source": [
        "#Defines el área y escribes la fórmula\n",
        "def Area(b,h):\n",
        "  a=(b*h)*0.5\n",
        "  return a"
      ],
      "metadata": {
        "id": "PHeF3cZOagyA"
      },
      "execution_count": 3,
      "outputs": []
    },
    {
      "cell_type": "code",
      "source": [
        "#Le das los valores a b y h\n",
        "Area(2,8)"
      ],
      "metadata": {
        "colab": {
          "base_uri": "https://localhost:8080/"
        },
        "id": "29svMU7EajFC",
        "outputId": "ef30c222-afe4-4cce-a6f9-4ef3cd8d2a66"
      },
      "execution_count": 4,
      "outputs": [
        {
          "output_type": "execute_result",
          "data": {
            "text/plain": [
              "8.0"
            ]
          },
          "metadata": {},
          "execution_count": 4
        }
      ]
    },
    {
      "cell_type": "markdown",
      "source": [
        "#Determinar si un número es par o no"
      ],
      "metadata": {
        "id": "ZMocm9qsakc2"
      }
    },
    {
      "cell_type": "code",
      "source": [
        "#Defines la variable npar y escribes la fórmula\n",
        "def npar(x):\n",
        "  num=x%2\n",
        "  return num"
      ],
      "metadata": {
        "id": "rhMf8BeManQt"
      },
      "execution_count": 5,
      "outputs": []
    },
    {
      "cell_type": "code",
      "source": [
        "#Escribes los if para cada caso, si el residuo es 0 es par sino es impar\n",
        "x = 7\n",
        "if (npar(x)==0):\n",
        "  print(\"Es par\")\n",
        "if (npar(x)!=0):\n",
        "  print(\"Es impar\")"
      ],
      "metadata": {
        "colab": {
          "base_uri": "https://localhost:8080/"
        },
        "id": "VGWUvHsZaq5d",
        "outputId": "5b2a4d02-14a2-4156-9629-ef1b4a92d850"
      },
      "execution_count": 6,
      "outputs": [
        {
          "output_type": "stream",
          "name": "stdout",
          "text": [
            "Es impar\n"
          ]
        }
      ]
    },
    {
      "cell_type": "markdown",
      "source": [
        "#Números perfectos"
      ],
      "metadata": {
        "id": "6D0Hn6OnauVB"
      }
    },
    {
      "cell_type": "code",
      "source": [
        "#Le pides al usuario un número\n",
        "n = int(input(\"Ingrese un número: \"))\n",
        "L = [i for i in range(1, n) if n%i==0]\n",
        "L"
      ],
      "metadata": {
        "colab": {
          "base_uri": "https://localhost:8080/"
        },
        "id": "0W5INpvCaxK2",
        "outputId": "b739ad26-8392-45ed-c2e6-675bf251bc46"
      },
      "execution_count": 7,
      "outputs": [
        {
          "name": "stdout",
          "output_type": "stream",
          "text": [
            "Ingrese un número: 4\n"
          ]
        },
        {
          "output_type": "execute_result",
          "data": {
            "text/plain": [
              "[1, 2]"
            ]
          },
          "metadata": {},
          "execution_count": 7
        }
      ]
    },
    {
      "cell_type": "code",
      "source": [
        "#Estableces los if para saber si la suma de los divisores dan el número n entonces es perfecto sino no\n",
        "if (sum(L) == n):\n",
        "  print(\"Es perfecto\")\n",
        "else:\n",
        "  print(\"No es perfecto\")"
      ],
      "metadata": {
        "colab": {
          "base_uri": "https://localhost:8080/"
        },
        "id": "uMlVeH6Wa0sF",
        "outputId": "51292d07-6206-4b4c-a317-57c68e7020cc"
      },
      "execution_count": 8,
      "outputs": [
        {
          "output_type": "stream",
          "name": "stdout",
          "text": [
            "No es perfecto\n"
          ]
        }
      ]
    }
  ]
}